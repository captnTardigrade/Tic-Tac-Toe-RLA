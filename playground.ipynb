{
 "cells": [
  {
   "cell_type": "code",
   "execution_count": 1,
   "metadata": {},
   "outputs": [],
   "source": [
    "import numpy as np\n",
    "import cProfile\n",
    "import pstats"
   ]
  },
  {
   "cell_type": "code",
   "execution_count": 11,
   "metadata": {},
   "outputs": [],
   "source": [
    "def my_func(a):\n",
    "    print(a)\n",
    "    return a"
   ]
  },
  {
   "cell_type": "code",
   "execution_count": 13,
   "metadata": {},
   "outputs": [
    {
     "name": "stdout",
     "output_type": "stream",
     "text": [
      "[4 4 3 9 8 7 5 9 8 2]\n",
      "[4 4 3 9 8 7 5 9 8 2]\n",
      "         255 function calls (237 primitive calls) in 0.001 seconds\n",
      "\n",
      "   Ordered by: cumulative time\n",
      "   List reduced from 93 to 10 due to restriction <10>\n",
      "\n",
      "   ncalls  tottime  percall  cumtime  percall filename:lineno(function)\n",
      "      9/2    0.000    0.000    0.001    0.000 {built-in method numpy.core._multiarray_umath.implement_array_function}\n",
      "        1    0.000    0.000    0.001    0.001 <__array_function__ internals>:177(apply_along_axis)\n",
      "        1    0.000    0.000    0.001    0.001 e:\\semester_8\\RLA\\env\\lib\\site-packages\\numpy\\lib\\shape_base.py:267(apply_along_axis)\n",
      "        1    0.000    0.000    0.001    0.001 C:\\Users\\Kranthi Sedamaki\\AppData\\Local\\Temp\\ipykernel_13904\\3349019748.py:1(my_func)\n",
      "        1    0.000    0.000    0.001    0.001 {built-in method builtins.print}\n",
      "        2    0.000    0.000    0.000    0.000 e:\\semester_8\\RLA\\env\\lib\\site-packages\\ipykernel\\iostream.py:535(write)\n",
      "        2    0.000    0.000    0.000    0.000 e:\\semester_8\\RLA\\env\\lib\\site-packages\\ipykernel\\iostream.py:465(_schedule_flush)\n",
      "        1    0.000    0.000    0.000    0.000 e:\\semester_8\\RLA\\env\\lib\\site-packages\\ipykernel\\iostream.py:203(schedule)\n",
      "        1    0.000    0.000    0.000    0.000 e:\\semester_8\\RLA\\env\\lib\\site-packages\\zmq\\sugar\\socket.py:613(send)\n",
      "        1    0.000    0.000    0.000    0.000 e:\\semester_8\\RLA\\env\\lib\\site-packages\\numpy\\core\\arrayprint.py:1571(_array_str_implementation)\n",
      "\n",
      "\n"
     ]
    },
    {
     "data": {
      "text/plain": [
       "<pstats.Stats at 0x1ded891fb50>"
      ]
     },
     "execution_count": 13,
     "metadata": {},
     "output_type": "execute_result"
    }
   ],
   "source": [
    "# given a state and an action, how to get the next state efficiently\n",
    "\n",
    "state_to_next = {i: i + 1 for i in range(1000000)}\n",
    "with cProfile.Profile() as pr:\n",
    "    res = np.apply_along_axis(my_func, -1, np.random.randint(0, 10, 10))\n",
    "\n",
    "print(res)\n",
    "ps = pstats.Stats(pr)\n",
    "ps.sort_stats('cumtime').print_stats(10)"
   ]
  },
  {
   "cell_type": "code",
   "execution_count": 35,
   "metadata": {},
   "outputs": [
    {
     "data": {
      "text/plain": [
       "array([[0, 1, 2, 3, 4],\n",
       "       [5, 6, 7, 8, 9]])"
      ]
     },
     "execution_count": 35,
     "metadata": {},
     "output_type": "execute_result"
    }
   ],
   "source": [
    "x = np.arange(10).reshape(2, 5)\n",
    "x"
   ]
  },
  {
   "cell_type": "code",
   "execution_count": 36,
   "metadata": {},
   "outputs": [],
   "source": [
    "def f(x):\n",
    "    return str(x)"
   ]
  },
  {
   "cell_type": "code",
   "execution_count": 37,
   "metadata": {},
   "outputs": [
    {
     "data": {
      "text/plain": [
       "'[[0 1 2 3 4]\\n [5 6 7 8 9]]'"
      ]
     },
     "execution_count": 37,
     "metadata": {},
     "output_type": "execute_result"
    }
   ],
   "source": [
    "f(x)"
   ]
  },
  {
   "cell_type": "code",
   "execution_count": 22,
   "metadata": {},
   "outputs": [],
   "source": [
    "all_states = np.arange(1000000)"
   ]
  },
  {
   "cell_type": "code",
   "execution_count": 30,
   "metadata": {},
   "outputs": [],
   "source": [
    "actions = np.random.randint(0, 3, (10, 2))"
   ]
  },
  {
   "cell_type": "code",
   "execution_count": 32,
   "metadata": {},
   "outputs": [],
   "source": [
    "def get_next_state(state, action):\n",
    "    x, y = action\n",
    "    state[x][y] = state[x][y] + 1\n",
    "    return state"
   ]
  },
  {
   "cell_type": "code",
   "execution_count": null,
   "metadata": {},
   "outputs": [],
   "source": []
  }
 ],
 "metadata": {
  "kernelspec": {
   "display_name": "env",
   "language": "python",
   "name": "python3"
  },
  "language_info": {
   "codemirror_mode": {
    "name": "ipython",
    "version": 3
   },
   "file_extension": ".py",
   "mimetype": "text/x-python",
   "name": "python",
   "nbconvert_exporter": "python",
   "pygments_lexer": "ipython3",
   "version": "3.10.4"
  },
  "orig_nbformat": 4
 },
 "nbformat": 4,
 "nbformat_minor": 2
}
